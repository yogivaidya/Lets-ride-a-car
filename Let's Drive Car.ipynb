{
 "cells": [
  {
   "cell_type": "markdown",
   "metadata": {},
   "source": [
    "# lets drive Vehicle"
   ]
  },
  {
   "cell_type": "code",
   "execution_count": 1,
   "metadata": {},
   "outputs": [],
   "source": [
    "class Vehicle:\n",
    "    def __init__(self,maxspeed):\n",
    "        self.maxspeed = maxspeed\n",
    "        self.fuel=0\n",
    "        self.money=10\n",
    "        self.gear = 0\n",
    "        self.speed = 0\n",
    "\n",
    "    def refuel(self):\n",
    "        if self.money==0:\n",
    "            print(\"No money\")\n",
    "        else:\n",
    "            self.fuel=self.fuel+10\n",
    "            self.money -=10\n",
    "        \n",
    "    def setSpeed(self,speed):\n",
    "        self.speed = speed\n",
    "    \n",
    "    def ignite(self):\n",
    "        if self.fuel == 0:\n",
    "            print('No fuel, you cannot drive!!')\n",
    "        else:\n",
    "            self.setSpeed(0)\n",
    "            self.fuel -= 2\n",
    "            print('You are ready for the ride')\n",
    "    \n",
    "    def accelerate(self):\n",
    "        if self.fuel == 0:\n",
    "            print('No fuel, you cannot drive!!')\n",
    "        else:\n",
    "            self.setSpeed(self.speed +10)\n",
    "            self.gear_up()\n",
    "            print('Your current speed is {}'.format(self.speed))\n",
    "            self.fuel -= 2\n",
    "    \n",
    "    def slow_down(self):\n",
    "        if self.speed==0:\n",
    "            self.brake()\n",
    "        else:\n",
    "            self.setSpeed(self.speed -10)\n",
    "            self.gear_down()\n",
    "            print('Your current speed is {}'.format(self.speed))\n",
    "            self.fuel -= 2\n",
    "        \n",
    "    def brake(self):\n",
    "        self.speed = 0\n",
    "        print('The car has stopped')\n",
    "        \n",
    "    def gear_up(self):\n",
    "        if self.gear<5:\n",
    "            self.gear =self.gear+ 1\n",
    "            print('Your current gear is {}'.format(self.gear))\n",
    "        \n",
    "    def gear_down(self):\n",
    "        if self.gear>0:\n",
    "            self.gear =self.gear- 1\n",
    "            print('Your current gear is {}'.format(self.gear))\n",
    "    \n",
    "    def add_money(self, money):\n",
    "        total_money = self.money+money\n",
    "        self.money = total_money\n",
    "        print('Yay you have added {}'.format(money))\n",
    "        print('Your total money in wallet is {}'.format(total_money))\n"
   ]
  },
  {
   "cell_type": "code",
   "execution_count": 2,
   "metadata": {},
   "outputs": [],
   "source": [
    "Car = Vehicle(200)"
   ]
  },
  {
   "cell_type": "code",
   "execution_count": 3,
   "metadata": {},
   "outputs": [
    {
     "name": "stdout",
     "output_type": "stream",
     "text": [
      "No fuel, you cannot drive!!\n"
     ]
    }
   ],
   "source": [
    "Car.ignite()"
   ]
  },
  {
   "cell_type": "code",
   "execution_count": 4,
   "metadata": {},
   "outputs": [],
   "source": [
    "Car.refuel()"
   ]
  },
  {
   "cell_type": "code",
   "execution_count": 5,
   "metadata": {},
   "outputs": [
    {
     "name": "stdout",
     "output_type": "stream",
     "text": [
      "You are ready for the ride\n"
     ]
    }
   ],
   "source": [
    "Car.ignite()"
   ]
  },
  {
   "cell_type": "code",
   "execution_count": 6,
   "metadata": {},
   "outputs": [
    {
     "data": {
      "text/plain": [
       "8"
      ]
     },
     "execution_count": 6,
     "metadata": {},
     "output_type": "execute_result"
    }
   ],
   "source": [
    "Car.fuel"
   ]
  },
  {
   "cell_type": "code",
   "execution_count": 7,
   "metadata": {},
   "outputs": [
    {
     "name": "stdout",
     "output_type": "stream",
     "text": [
      "Your current gear is 1\n"
     ]
    }
   ],
   "source": [
    "Car.gear_up()"
   ]
  },
  {
   "cell_type": "code",
   "execution_count": 8,
   "metadata": {},
   "outputs": [
    {
     "name": "stdout",
     "output_type": "stream",
     "text": [
      "Your current gear is 2\n"
     ]
    }
   ],
   "source": [
    "Car.gear_up()"
   ]
  },
  {
   "cell_type": "code",
   "execution_count": 9,
   "metadata": {},
   "outputs": [
    {
     "name": "stdout",
     "output_type": "stream",
     "text": [
      "Your current gear is 3\n"
     ]
    }
   ],
   "source": [
    "Car.gear_up()"
   ]
  },
  {
   "cell_type": "code",
   "execution_count": 10,
   "metadata": {},
   "outputs": [
    {
     "name": "stdout",
     "output_type": "stream",
     "text": [
      "Your current gear is 4\n",
      "Your current speed is 10\n"
     ]
    }
   ],
   "source": [
    "Car.accelerate()"
   ]
  },
  {
   "cell_type": "code",
   "execution_count": 11,
   "metadata": {},
   "outputs": [
    {
     "name": "stdout",
     "output_type": "stream",
     "text": [
      "Your current gear is 5\n",
      "Your current speed is 20\n"
     ]
    }
   ],
   "source": [
    "Car.accelerate()"
   ]
  },
  {
   "cell_type": "code",
   "execution_count": 12,
   "metadata": {},
   "outputs": [
    {
     "name": "stdout",
     "output_type": "stream",
     "text": [
      "Your current speed is 30\n"
     ]
    }
   ],
   "source": [
    "Car.accelerate()"
   ]
  },
  {
   "cell_type": "code",
   "execution_count": 13,
   "metadata": {},
   "outputs": [
    {
     "data": {
      "text/plain": [
       "2"
      ]
     },
     "execution_count": 13,
     "metadata": {},
     "output_type": "execute_result"
    }
   ],
   "source": [
    "Car.fuel"
   ]
  },
  {
   "cell_type": "code",
   "execution_count": 14,
   "metadata": {},
   "outputs": [
    {
     "name": "stdout",
     "output_type": "stream",
     "text": [
      "Your current speed is 40\n"
     ]
    }
   ],
   "source": [
    "Car.accelerate()"
   ]
  },
  {
   "cell_type": "code",
   "execution_count": 15,
   "metadata": {},
   "outputs": [
    {
     "data": {
      "text/plain": [
       "0"
      ]
     },
     "execution_count": 15,
     "metadata": {},
     "output_type": "execute_result"
    }
   ],
   "source": [
    "Car.fuel"
   ]
  },
  {
   "cell_type": "code",
   "execution_count": 16,
   "metadata": {},
   "outputs": [
    {
     "name": "stdout",
     "output_type": "stream",
     "text": [
      "No fuel, you cannot drive!!\n"
     ]
    }
   ],
   "source": [
    "Car.accelerate()"
   ]
  },
  {
   "cell_type": "code",
   "execution_count": 17,
   "metadata": {},
   "outputs": [
    {
     "name": "stdout",
     "output_type": "stream",
     "text": [
      "No money\n"
     ]
    }
   ],
   "source": [
    "Car.refuel()"
   ]
  },
  {
   "cell_type": "code",
   "execution_count": 18,
   "metadata": {},
   "outputs": [
    {
     "name": "stdout",
     "output_type": "stream",
     "text": [
      "Yay you have added 25\n",
      "Your total money in wallet is 25\n"
     ]
    }
   ],
   "source": [
    "Car.add_money(25)"
   ]
  },
  {
   "cell_type": "code",
   "execution_count": 19,
   "metadata": {},
   "outputs": [],
   "source": [
    "Car.refuel()"
   ]
  },
  {
   "cell_type": "code",
   "execution_count": 20,
   "metadata": {},
   "outputs": [],
   "source": [
    "Car.refuel()"
   ]
  },
  {
   "cell_type": "code",
   "execution_count": 21,
   "metadata": {},
   "outputs": [
    {
     "data": {
      "text/plain": [
       "20"
      ]
     },
     "execution_count": 21,
     "metadata": {},
     "output_type": "execute_result"
    }
   ],
   "source": [
    "Car.fuel"
   ]
  },
  {
   "cell_type": "code",
   "execution_count": 22,
   "metadata": {},
   "outputs": [
    {
     "name": "stdout",
     "output_type": "stream",
     "text": [
      "You are ready for the ride\n"
     ]
    }
   ],
   "source": [
    "Car.ignite()"
   ]
  },
  {
   "cell_type": "code",
   "execution_count": 23,
   "metadata": {},
   "outputs": [
    {
     "name": "stdout",
     "output_type": "stream",
     "text": [
      "Your current speed is 10\n"
     ]
    }
   ],
   "source": [
    "Car.accelerate()"
   ]
  },
  {
   "cell_type": "code",
   "execution_count": 24,
   "metadata": {},
   "outputs": [
    {
     "name": "stdout",
     "output_type": "stream",
     "text": [
      "The car has stopped\n"
     ]
    }
   ],
   "source": [
    "Car.brake()"
   ]
  },
  {
   "cell_type": "code",
   "execution_count": null,
   "metadata": {},
   "outputs": [],
   "source": []
  }
 ],
 "metadata": {
  "kernelspec": {
   "display_name": "Python 3",
   "language": "python",
   "name": "python3"
  },
  "language_info": {
   "codemirror_mode": {
    "name": "ipython",
    "version": 3
   },
   "file_extension": ".py",
   "mimetype": "text/x-python",
   "name": "python",
   "nbconvert_exporter": "python",
   "pygments_lexer": "ipython3",
   "version": "3.8.3"
  }
 },
 "nbformat": 4,
 "nbformat_minor": 4
}
